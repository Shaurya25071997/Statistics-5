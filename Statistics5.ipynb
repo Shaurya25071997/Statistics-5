{
 "cells": [
  {
   "cell_type": "markdown",
   "id": "11d786b3",
   "metadata": {},
   "source": [
    "## Q1. How are you going to figure out the average heights of all the trees in Karnataka?"
   ]
  },
  {
   "cell_type": "markdown",
   "id": "5c782a86",
   "metadata": {},
   "source": [
    "Let us begin with the solution that we cannot count all trees in Karnataka and find average of it. So we came to conclusion that we should find while taking some smaples of it so we take some samples of height"
   ]
  },
  {
   "cell_type": "markdown",
   "id": "59bce21f",
   "metadata": {},
   "source": [
    "xi = {50cm,60cm,70cm,80cm,90cm,100cm}\n",
    "fi = {20, 22, 10,16, 14,18}\n",
    "\n",
    "fi = 20+22+10+16+14+18 =100\n",
    "\n",
    "Avaeage Heights = xi*fi/fi\n",
    "\n",
    "Average Heights = (50*20)+(60*22)+(70*10)+(80*16)+(90*14)+(100*18)/100\n",
    "\n",
    "Average Heights =  1000+1320+700+1280+1260+1800/100\n",
    "\n",
    "Average Heights = 7360/100\n",
    "\n",
    "Average Heights = 73.6cm\n"
   ]
  },
  {
   "cell_type": "markdown",
   "id": "c587a772",
   "metadata": {},
   "source": [
    "## Q2. What is hypothesis testing and how does it work?"
   ]
  },
  {
   "cell_type": "markdown",
   "id": "2b961c36",
   "metadata": {},
   "source": [
    "A statistical test used to determine whether the hypothesis assumed for the sample data stands true for the entire population or not Hypothesis is an assumption which is tested to determine the relationship  between two datasets."
   ]
  },
  {
   "cell_type": "markdown",
   "id": "9a460997",
   "metadata": {},
   "source": [
    "It is also an inferential statistics that allows to draw conclusions about the entire population based on representative sample."
   ]
  },
  {
   "cell_type": "markdown",
   "id": "73631dd2",
   "metadata": {},
   "source": [
    "There are 4 various methods to determine hypothesis testing:-\n",
    "\n",
    "1) Specify the Null Hypothesis represented by H0\n",
    "2) Specify the Alternate Hypothesis represented by H1\n",
    "3) Set the Significance level\n",
    "4) Calculate the test statistic and Corresponding P value\n",
    "5) Drawing the conclusion"
   ]
  },
  {
   "cell_type": "markdown",
   "id": "bc8631a0",
   "metadata": {},
   "source": [
    "So firstly when we get a dataset and in which Significance value is been determine by the domain expert so we will explain each and every topic with help of example by proper understanding"
   ]
  },
  {
   "cell_type": "markdown",
   "id": "73f56b7a",
   "metadata": {},
   "source": [
    "**Example:-1**   A principal at a certain school claims that the students in his school are above average intelligence. A random sample of thirty students IQ scores have a mean score of 112.5. Is there sufficient evidence to support the principal’s claim? The mean population IQ is 100 with a standard deviation of 15. Domain expert has given α = 0.05"
   ]
  },
  {
   "cell_type": "markdown",
   "id": "2fa314b0",
   "metadata": {},
   "source": [
    " **Step:-1** State the null Hypothesis Population mean = 100, H0:  μ = 100"
   ]
  },
  {
   "cell_type": "markdown",
   "id": "878ab227",
   "metadata": {},
   "source": [
    " **Step:-2** State the Alternate Hypothesis the student have above average IQ is H1 : μ > 100"
   ]
  },
  {
   "cell_type": "markdown",
   "id": "059c5e04",
   "metadata": {},
   "source": [
    "The fact that we are looking for scores “greater than” a certain point means that this is a one-tailed test."
   ]
  },
  {
   "cell_type": "markdown",
   "id": "8dcaa5c4",
   "metadata": {},
   "source": [
    "**Step 3:** Draw a picture to help you visualize the problem.\n"
   ]
  },
  {
   "cell_type": "code",
   "execution_count": 3,
   "id": "18c85ed7",
   "metadata": {},
   "outputs": [
    {
     "data": {
      "image/jpeg": "[encoded data removed]",
      "text/plain": [
       "<IPython.core.display.Image object>"
      ]
     },
     "execution_count": 3,
     "metadata": {},
     "output_type": "execute_result"
    }
   ],
   "source": [
    " from IPython.display import Image\n",
    "Image(filename= 'graph.jpg')"
   ]
  },
  {
   "cell_type": "markdown",
   "id": "c0c69703",
   "metadata": {},
   "source": [
    "**Step 4:** State the alpha level α = 0.05 "
   ]
  },
  {
   "cell_type": "markdown",
   "id": "03ed87bd",
   "metadata": {},
   "source": [
    "**Step 5:**  Find the rejection region area (given by your alpha level above) from the z-table. An area of .05 is equal to a z-score of 1.645."
   ]
  },
  {
   "cell_type": "markdown",
   "id": "6c79f589",
   "metadata": {},
   "source": [
    "**Step 6:** Find the test statistic using this formula:"
   ]
  },
  {
   "cell_type": "code",
   "execution_count": 6,
   "id": "dbc575a4",
   "metadata": {},
   "outputs": [
    {
     "data": {
      "image/jpeg": "[encoded data removed]",
      "text/plain": [
       "<IPython.core.display.Image object>"
      ]
     },
     "execution_count": 6,
     "metadata": {},
     "output_type": "execute_result"
    }
   ],
   "source": [
    "Image(filename= 'zscore.jpg')"
   ]
  },
  {
   "cell_type": "markdown",
   "id": "429dc835",
   "metadata": {},
   "source": [
    "Z = 112.5-100/15/√30\n",
    "Z = 4.56"
   ]
  },
  {
   "cell_type": "markdown",
   "id": "9aeafed9",
   "metadata": {},
   "source": [
    "**Step7:** Z = 4.56 > 1.645 Reject the Null hypothesis H0\n",
    "           Z = 4.56 < 1.645 Accept the Null Hypothesis H1"
   ]
  },
  {
   "cell_type": "markdown",
   "id": "3e34ddba",
   "metadata": {},
   "source": [
    "## Q3. Explain the differences between Alpha and Beta errors. Which inaccuracy is the most hazardous?"
   ]
  },
  {
   "cell_type": "markdown",
   "id": "a6187c9a",
   "metadata": {},
   "source": [
    "**Alpha errors:-** It is basically known as Type 1 error if we reject the null hypothesis when it is true this is false positive, like a fire alarm rings when there is no fire.\n",
    "\n",
    "**Beta errors:-**  It is bascially known as Type 2 error if we fail to reject the null hypothesis when it is not true. This is a false negative like an alarm that fails to sound when there is a fire."
   ]
  },
  {
   "cell_type": "code",
   "execution_count": 8,
   "id": "7d200d79",
   "metadata": {},
   "outputs": [
    {
     "data": {
      "image/png": "[encoded data removed]",
      "text/plain": [
       "<IPython.core.display.Image object>"
      ]
     },
     "execution_count": 8,
     "metadata": {},
     "output_type": "execute_result"
    }
   ],
   "source": [
    "Image(filename= 'type.png')"
   ]
  },
  {
   "cell_type": "markdown",
   "id": "97f96aa3",
   "metadata": {},
   "source": [
    "Type I error may have consequences that are less acceptable than those from a Type II error. In another, the Type II error could be less costly than a Type I error. And sometimes, as Dan Smith pointed out in Significance a few years back with respect to Six Sigma and quality improvement, \"neither\" is the only answer to which error is worse: \n",
    "\n",
    "Most Six Sigma students are going to use the skills they learn in the context of business. In business, whether we cost a company $3 million by suggesting an alternative process when there is nothing wrong with the current process or we fail to realize $3 million in gains when we should switch to a new process but fail to do so, the end result is the same. The company failed to capture $3 million in additional revenue. \n",
    "\n",
    "Since there's not a clear rule of thumb about whether Type 1 or Type 2 errors are worse, our best option when using data to test a hypothesis is to look very carefully at the fallout that might follow both kinds of errors. Several experts suggest using a table like the one below to detail the consequences for a Type 1 and a Type 2 error in your particular analysis. "
   ]
  },
  {
   "cell_type": "markdown",
   "id": "9dace5f9",
   "metadata": {},
   "source": [
    "## Q4. What is the significance of the p-value?"
   ]
  },
  {
   "cell_type": "markdown",
   "id": "56c95279",
   "metadata": {},
   "source": [
    "A p-value is a measure of the probability that an obsereved differnce could have occur just by random choice. The lower the p-value the greater the statistical significance of the observed difference. P-value can serve as an alternative to or in addition to preselected confidence intervals levels for Hypothesis testing. or we can simply say that it is the probability for the null Hypothesis to be true"
   ]
  },
  {
   "cell_type": "markdown",
   "id": "09a07670",
   "metadata": {},
   "source": [
    "We can also take an example for P-value understanding:-\n",
    "    \n",
    "Like if we touches a keyboard at particular area so we can determine how many percentage times we touch that so if we touch 95 times significance value can become 0.05 or p value so according to graph which we will give below for understanding so the area which is in 95% i fp value lies we will accept null hypothesis and if it is not we will reject the null hypothesis which means we touch the key board at different positions and very less whoch will be unlikely observations and pvalue acceptance will be likely observations"
   ]
  },
  {
   "cell_type": "code",
   "execution_count": 9,
   "id": "9f7f1456",
   "metadata": {},
   "outputs": [
    {
     "data": {
      "image/jpeg": "[encoded data removed]",
      "text/plain": [
       "<IPython.core.display.Image object>"
      ]
     },
     "execution_count": 9,
     "metadata": {},
     "output_type": "execute_result"
    }
   ],
   "source": [
    "Image(filename= 'pvalue.jpg')"
   ]
  },
  {
   "cell_type": "markdown",
   "id": "4c8753af",
   "metadata": {},
   "source": [
    "## Q5. What is the Probability Distribution Function and how does it work?"
   ]
  },
  {
   "cell_type": "markdown",
   "id": "6c23d606",
   "metadata": {},
   "source": [
    "A probability distribution function is statistical function that describes all the possible values and likelihoods that a random variable can take within a given range and it is used for discrete random variables and it is also similar to probability density function which is smoother version for histogram"
   ]
  },
  {
   "cell_type": "markdown",
   "id": "f28bcaa5",
   "metadata": {},
   "source": [
    "Let see how it works:-\n",
    "    \n",
    "The sum of all probabilities for all possible values must be equal to 1 further probability for a paticular value or range of values must be between 0 and 1"
   ]
  },
  {
   "cell_type": "code",
   "execution_count": 10,
   "id": "d7c9c5ed",
   "metadata": {},
   "outputs": [
    {
     "data": {
      "image/jpeg": "[encoded data removed]",
      "text/plain": [
       "<IPython.core.display.Image object>"
      ]
     },
     "execution_count": 10,
     "metadata": {},
     "output_type": "execute_result"
    }
   ],
   "source": [
    "Image(filename= 'pdf.jpg')"
   ]
  },
  {
   "cell_type": "markdown",
   "id": "2fa644b2",
   "metadata": {},
   "source": [
    "## THE END"
   ]
  }
 ],
 "metadata": {
  "kernelspec": {
   "display_name": "Python 3 (ipykernel)",
   "language": "python",
   "name": "python3"
  },
  "language_info": {
   "codemirror_mode": {
    "name": "ipython",
    "version": 3
   },
   "file_extension": ".py",
   "mimetype": "text/x-python",
   "name": "python",
   "nbconvert_exporter": "python",
   "pygments_lexer": "ipython3",
   "version": "3.9.7"
  }
 },
 "nbformat": 4,
 "nbformat_minor": 5
}
